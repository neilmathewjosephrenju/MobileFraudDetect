{
 "cells": [
  {
   "cell_type": "markdown",
   "id": "363ae039",
   "metadata": {},
   "source": [
    "Phase 1 - Dataset Preprocessing"
   ]
  },
  {
   "cell_type": "code",
   "execution_count": 1,
   "id": "be2c178c",
   "metadata": {},
   "outputs": [],
   "source": [
    "import pandas as pd\n",
    "import numpy as np"
   ]
  },
  {
   "cell_type": "code",
   "execution_count": 2,
   "id": "748a3941",
   "metadata": {},
   "outputs": [
    {
     "data": {
      "text/html": [
       "<div>\n",
       "<style scoped>\n",
       "    .dataframe tbody tr th:only-of-type {\n",
       "        vertical-align: middle;\n",
       "    }\n",
       "\n",
       "    .dataframe tbody tr th {\n",
       "        vertical-align: top;\n",
       "    }\n",
       "\n",
       "    .dataframe thead th {\n",
       "        text-align: right;\n",
       "    }\n",
       "</style>\n",
       "<table border=\"1\" class=\"dataframe\">\n",
       "  <thead>\n",
       "    <tr style=\"text-align: right;\">\n",
       "      <th></th>\n",
       "      <th>step</th>\n",
       "      <th>type</th>\n",
       "      <th>amount</th>\n",
       "      <th>nameOrig</th>\n",
       "      <th>oldbalanceOrg</th>\n",
       "      <th>newbalanceOrig</th>\n",
       "      <th>nameDest</th>\n",
       "      <th>oldbalanceDest</th>\n",
       "      <th>newbalanceDest</th>\n",
       "      <th>isFraud</th>\n",
       "      <th>isFlaggedFraud</th>\n",
       "    </tr>\n",
       "  </thead>\n",
       "  <tbody>\n",
       "    <tr>\n",
       "      <th>0</th>\n",
       "      <td>1</td>\n",
       "      <td>PAYMENT</td>\n",
       "      <td>9839.64</td>\n",
       "      <td>C1231006815</td>\n",
       "      <td>170136.0</td>\n",
       "      <td>160296.36</td>\n",
       "      <td>M1979787155</td>\n",
       "      <td>0.0</td>\n",
       "      <td>0.0</td>\n",
       "      <td>0</td>\n",
       "      <td>0</td>\n",
       "    </tr>\n",
       "    <tr>\n",
       "      <th>1</th>\n",
       "      <td>1</td>\n",
       "      <td>PAYMENT</td>\n",
       "      <td>1864.28</td>\n",
       "      <td>C1666544295</td>\n",
       "      <td>21249.0</td>\n",
       "      <td>19384.72</td>\n",
       "      <td>M2044282225</td>\n",
       "      <td>0.0</td>\n",
       "      <td>0.0</td>\n",
       "      <td>0</td>\n",
       "      <td>0</td>\n",
       "    </tr>\n",
       "    <tr>\n",
       "      <th>2</th>\n",
       "      <td>1</td>\n",
       "      <td>TRANSFER</td>\n",
       "      <td>181.00</td>\n",
       "      <td>C1305486145</td>\n",
       "      <td>181.0</td>\n",
       "      <td>0.00</td>\n",
       "      <td>C553264065</td>\n",
       "      <td>0.0</td>\n",
       "      <td>0.0</td>\n",
       "      <td>1</td>\n",
       "      <td>0</td>\n",
       "    </tr>\n",
       "    <tr>\n",
       "      <th>3</th>\n",
       "      <td>1</td>\n",
       "      <td>CASH_OUT</td>\n",
       "      <td>181.00</td>\n",
       "      <td>C840083671</td>\n",
       "      <td>181.0</td>\n",
       "      <td>0.00</td>\n",
       "      <td>C38997010</td>\n",
       "      <td>21182.0</td>\n",
       "      <td>0.0</td>\n",
       "      <td>1</td>\n",
       "      <td>0</td>\n",
       "    </tr>\n",
       "    <tr>\n",
       "      <th>4</th>\n",
       "      <td>1</td>\n",
       "      <td>PAYMENT</td>\n",
       "      <td>11668.14</td>\n",
       "      <td>C2048537720</td>\n",
       "      <td>41554.0</td>\n",
       "      <td>29885.86</td>\n",
       "      <td>M1230701703</td>\n",
       "      <td>0.0</td>\n",
       "      <td>0.0</td>\n",
       "      <td>0</td>\n",
       "      <td>0</td>\n",
       "    </tr>\n",
       "  </tbody>\n",
       "</table>\n",
       "</div>"
      ],
      "text/plain": [
       "   step      type    amount     nameOrig  oldbalanceOrg  newbalanceOrig  \\\n",
       "0     1   PAYMENT   9839.64  C1231006815       170136.0       160296.36   \n",
       "1     1   PAYMENT   1864.28  C1666544295        21249.0        19384.72   \n",
       "2     1  TRANSFER    181.00  C1305486145          181.0            0.00   \n",
       "3     1  CASH_OUT    181.00   C840083671          181.0            0.00   \n",
       "4     1   PAYMENT  11668.14  C2048537720        41554.0        29885.86   \n",
       "\n",
       "      nameDest  oldbalanceDest  newbalanceDest  isFraud  isFlaggedFraud  \n",
       "0  M1979787155             0.0             0.0        0               0  \n",
       "1  M2044282225             0.0             0.0        0               0  \n",
       "2   C553264065             0.0             0.0        1               0  \n",
       "3    C38997010         21182.0             0.0        1               0  \n",
       "4  M1230701703             0.0             0.0        0               0  "
      ]
     },
     "execution_count": 2,
     "metadata": {},
     "output_type": "execute_result"
    }
   ],
   "source": [
    "df = pd.read_csv(\"fraudDataset.csv\")\n",
    "df.head(5)"
   ]
  },
  {
   "cell_type": "code",
   "execution_count": 3,
   "id": "b2365e01",
   "metadata": {},
   "outputs": [
    {
     "data": {
      "text/plain": [
       "step              0\n",
       "type              0\n",
       "amount            0\n",
       "nameOrig          0\n",
       "oldbalanceOrg     0\n",
       "newbalanceOrig    0\n",
       "nameDest          0\n",
       "oldbalanceDest    0\n",
       "newbalanceDest    0\n",
       "isFraud           0\n",
       "isFlaggedFraud    0\n",
       "dtype: int64"
      ]
     },
     "execution_count": 3,
     "metadata": {},
     "output_type": "execute_result"
    }
   ],
   "source": [
    "df.isnull().sum()"
   ]
  },
  {
   "cell_type": "code",
   "execution_count": 4,
   "id": "301621da",
   "metadata": {},
   "outputs": [
    {
     "data": {
      "text/plain": [
       "step              0\n",
       "type              0\n",
       "amount            0\n",
       "nameOrig          0\n",
       "oldbalanceOrg     0\n",
       "newbalanceOrig    0\n",
       "nameDest          0\n",
       "oldbalanceDest    0\n",
       "newbalanceDest    0\n",
       "isFraud           0\n",
       "isFlaggedFraud    0\n",
       "dtype: int64"
      ]
     },
     "execution_count": 4,
     "metadata": {},
     "output_type": "execute_result"
    }
   ],
   "source": [
    "df.dropna(inplace=True)\n",
    "df.isnull().sum()"
   ]
  },
  {
   "cell_type": "code",
   "execution_count": 5,
   "id": "35c1a145",
   "metadata": {},
   "outputs": [
    {
     "name": "stdout",
     "output_type": "stream",
     "text": [
      "0          False\n",
      "1          False\n",
      "2          False\n",
      "3          False\n",
      "4          False\n",
      "           ...  \n",
      "6362615    False\n",
      "6362616    False\n",
      "6362617    False\n",
      "6362618    False\n",
      "6362619    False\n",
      "Length: 6362620, dtype: bool\n"
     ]
    }
   ],
   "source": [
    "duplicated = df.duplicated()\n",
    "print(duplicated)"
   ]
  },
  {
   "cell_type": "code",
   "execution_count": 6,
   "id": "3436e127",
   "metadata": {},
   "outputs": [
    {
     "name": "stdout",
     "output_type": "stream",
     "text": [
      "isFraud\n",
      "0    6354407\n",
      "1       8213\n",
      "Name: count, dtype: int64\n"
     ]
    }
   ],
   "source": [
    "#Checking the class imbalances \n",
    "\n",
    "imbalance = df[\"isFraud\"].value_counts()\n",
    "print(imbalance)"
   ]
  },
  {
   "cell_type": "markdown",
   "id": "621a20a1",
   "metadata": {},
   "source": [
    "From the above, we have found out that the dataset is highly unbalanced and thus we are going to prepare the dataset for making it balanced"
   ]
  },
  {
   "cell_type": "code",
   "execution_count": 7,
   "id": "4d3e855e",
   "metadata": {},
   "outputs": [],
   "source": [
    "from sklearn.model_selection import train_test_split\n",
    "from imblearn.over_sampling import SMOTE\n",
    "\n",
    "x = df[['step', 'type', 'amount', 'oldbalanceOrg', 'newbalanceOrig', 'oldbalanceDest', 'newbalanceDest', 'isFlaggedFraud']]\n",
    "y = df[\"isFraud\"]\n",
    "\n",
    "x_train, x_test, y_train, y_test = train_test_split(x,y, test_size=0.3, random_state=42, stratify=y)\n",
    "\n",
    "columns_to_drop = ['oldbalanceOrg', 'newbalanceOrig', 'oldbalanceDest', 'newbalanceDest']\n",
    "x_train = x_train.drop(columns=columns_to_drop)\n",
    "x_test = x_test.drop(columns=columns_to_drop)\n"
   ]
  },
  {
   "cell_type": "code",
   "execution_count": 8,
   "id": "153fd092",
   "metadata": {},
   "outputs": [
    {
     "data": {
      "text/plain": [
       "type\n",
       "CASH_OUT    2237500\n",
       "PAYMENT     2151495\n",
       "CASH_IN     1399284\n",
       "TRANSFER     532909\n",
       "DEBIT         41432\n",
       "Name: count, dtype: int64"
      ]
     },
     "execution_count": 8,
     "metadata": {},
     "output_type": "execute_result"
    }
   ],
   "source": [
    "x[\"type\"].value_counts()"
   ]
  },
  {
   "cell_type": "code",
   "execution_count": 9,
   "id": "eab6d804",
   "metadata": {},
   "outputs": [],
   "source": [
    "from sklearn.preprocessing import OneHotEncoder\n",
    "import pandas as pd\n",
    "\n",
    "encoder = OneHotEncoder(handle_unknown='ignore', sparse_output=False)\n",
    "\n",
    "type_train_encoded = encoder.fit_transform(x_train[['type']])\n",
    "type_test_encoded = encoder.transform(x_test[['type']])\n",
    "\n",
    "type_columns = encoder.get_feature_names_out(['type'])\n",
    "\n",
    "type_train_df = pd.DataFrame(type_train_encoded, columns=type_columns, index=x_train.index)\n",
    "type_test_df = pd.DataFrame(type_test_encoded, columns=type_columns, index=x_test.index)\n",
    "\n",
    "x_train = x_train.drop(columns=['type'])\n",
    "x_test = x_test.drop(columns=['type'])\n",
    "\n",
    "x_train = pd.concat([x_train, type_train_df], axis=1)\n",
    "x_test = pd.concat([x_test, type_test_df], axis=1)\n",
    "\n"
   ]
  },
  {
   "cell_type": "code",
   "execution_count": 10,
   "id": "b3ecb999",
   "metadata": {},
   "outputs": [
    {
     "data": {
      "text/html": [
       "<div>\n",
       "<style scoped>\n",
       "    .dataframe tbody tr th:only-of-type {\n",
       "        vertical-align: middle;\n",
       "    }\n",
       "\n",
       "    .dataframe tbody tr th {\n",
       "        vertical-align: top;\n",
       "    }\n",
       "\n",
       "    .dataframe thead th {\n",
       "        text-align: right;\n",
       "    }\n",
       "</style>\n",
       "<table border=\"1\" class=\"dataframe\">\n",
       "  <thead>\n",
       "    <tr style=\"text-align: right;\">\n",
       "      <th></th>\n",
       "      <th>step</th>\n",
       "      <th>amount</th>\n",
       "      <th>isFlaggedFraud</th>\n",
       "      <th>type_CASH_IN</th>\n",
       "      <th>type_CASH_OUT</th>\n",
       "      <th>type_DEBIT</th>\n",
       "      <th>type_PAYMENT</th>\n",
       "      <th>type_TRANSFER</th>\n",
       "    </tr>\n",
       "  </thead>\n",
       "  <tbody>\n",
       "    <tr>\n",
       "      <th>4310249</th>\n",
       "      <td>308</td>\n",
       "      <td>260485.23</td>\n",
       "      <td>0</td>\n",
       "      <td>1.0</td>\n",
       "      <td>0.0</td>\n",
       "      <td>0.0</td>\n",
       "      <td>0.0</td>\n",
       "      <td>0.0</td>\n",
       "    </tr>\n",
       "    <tr>\n",
       "      <th>318938</th>\n",
       "      <td>16</td>\n",
       "      <td>1387060.19</td>\n",
       "      <td>0</td>\n",
       "      <td>0.0</td>\n",
       "      <td>0.0</td>\n",
       "      <td>0.0</td>\n",
       "      <td>0.0</td>\n",
       "      <td>1.0</td>\n",
       "    </tr>\n",
       "    <tr>\n",
       "      <th>3375139</th>\n",
       "      <td>254</td>\n",
       "      <td>1140661.98</td>\n",
       "      <td>0</td>\n",
       "      <td>0.0</td>\n",
       "      <td>0.0</td>\n",
       "      <td>0.0</td>\n",
       "      <td>0.0</td>\n",
       "      <td>1.0</td>\n",
       "    </tr>\n",
       "    <tr>\n",
       "      <th>5492781</th>\n",
       "      <td>380</td>\n",
       "      <td>169390.39</td>\n",
       "      <td>0</td>\n",
       "      <td>1.0</td>\n",
       "      <td>0.0</td>\n",
       "      <td>0.0</td>\n",
       "      <td>0.0</td>\n",
       "      <td>0.0</td>\n",
       "    </tr>\n",
       "    <tr>\n",
       "      <th>807263</th>\n",
       "      <td>40</td>\n",
       "      <td>4867.26</td>\n",
       "      <td>0</td>\n",
       "      <td>1.0</td>\n",
       "      <td>0.0</td>\n",
       "      <td>0.0</td>\n",
       "      <td>0.0</td>\n",
       "      <td>0.0</td>\n",
       "    </tr>\n",
       "    <tr>\n",
       "      <th>...</th>\n",
       "      <td>...</td>\n",
       "      <td>...</td>\n",
       "      <td>...</td>\n",
       "      <td>...</td>\n",
       "      <td>...</td>\n",
       "      <td>...</td>\n",
       "      <td>...</td>\n",
       "      <td>...</td>\n",
       "    </tr>\n",
       "    <tr>\n",
       "      <th>1422253</th>\n",
       "      <td>139</td>\n",
       "      <td>175520.68</td>\n",
       "      <td>0</td>\n",
       "      <td>0.0</td>\n",
       "      <td>0.0</td>\n",
       "      <td>0.0</td>\n",
       "      <td>0.0</td>\n",
       "      <td>1.0</td>\n",
       "    </tr>\n",
       "    <tr>\n",
       "      <th>5834821</th>\n",
       "      <td>402</td>\n",
       "      <td>347110.99</td>\n",
       "      <td>0</td>\n",
       "      <td>0.0</td>\n",
       "      <td>1.0</td>\n",
       "      <td>0.0</td>\n",
       "      <td>0.0</td>\n",
       "      <td>0.0</td>\n",
       "    </tr>\n",
       "    <tr>\n",
       "      <th>4182953</th>\n",
       "      <td>304</td>\n",
       "      <td>13259.63</td>\n",
       "      <td>0</td>\n",
       "      <td>0.0</td>\n",
       "      <td>0.0</td>\n",
       "      <td>0.0</td>\n",
       "      <td>1.0</td>\n",
       "      <td>0.0</td>\n",
       "    </tr>\n",
       "    <tr>\n",
       "      <th>3985280</th>\n",
       "      <td>298</td>\n",
       "      <td>24122.92</td>\n",
       "      <td>0</td>\n",
       "      <td>0.0</td>\n",
       "      <td>0.0</td>\n",
       "      <td>0.0</td>\n",
       "      <td>1.0</td>\n",
       "      <td>0.0</td>\n",
       "    </tr>\n",
       "    <tr>\n",
       "      <th>1541412</th>\n",
       "      <td>154</td>\n",
       "      <td>6865.63</td>\n",
       "      <td>0</td>\n",
       "      <td>0.0</td>\n",
       "      <td>0.0</td>\n",
       "      <td>0.0</td>\n",
       "      <td>1.0</td>\n",
       "      <td>0.0</td>\n",
       "    </tr>\n",
       "  </tbody>\n",
       "</table>\n",
       "<p>4453834 rows × 8 columns</p>\n",
       "</div>"
      ],
      "text/plain": [
       "         step      amount  isFlaggedFraud  type_CASH_IN  type_CASH_OUT  \\\n",
       "4310249   308   260485.23               0           1.0            0.0   \n",
       "318938     16  1387060.19               0           0.0            0.0   \n",
       "3375139   254  1140661.98               0           0.0            0.0   \n",
       "5492781   380   169390.39               0           1.0            0.0   \n",
       "807263     40     4867.26               0           1.0            0.0   \n",
       "...       ...         ...             ...           ...            ...   \n",
       "1422253   139   175520.68               0           0.0            0.0   \n",
       "5834821   402   347110.99               0           0.0            1.0   \n",
       "4182953   304    13259.63               0           0.0            0.0   \n",
       "3985280   298    24122.92               0           0.0            0.0   \n",
       "1541412   154     6865.63               0           0.0            0.0   \n",
       "\n",
       "         type_DEBIT  type_PAYMENT  type_TRANSFER  \n",
       "4310249         0.0           0.0            0.0  \n",
       "318938          0.0           0.0            1.0  \n",
       "3375139         0.0           0.0            1.0  \n",
       "5492781         0.0           0.0            0.0  \n",
       "807263          0.0           0.0            0.0  \n",
       "...             ...           ...            ...  \n",
       "1422253         0.0           0.0            1.0  \n",
       "5834821         0.0           0.0            0.0  \n",
       "4182953         0.0           1.0            0.0  \n",
       "3985280         0.0           1.0            0.0  \n",
       "1541412         0.0           1.0            0.0  \n",
       "\n",
       "[4453834 rows x 8 columns]"
      ]
     },
     "execution_count": 10,
     "metadata": {},
     "output_type": "execute_result"
    }
   ],
   "source": [
    "x_train"
   ]
  },
  {
   "cell_type": "code",
   "execution_count": 11,
   "id": "bf0f08f0",
   "metadata": {},
   "outputs": [],
   "source": [
    "#Applying the SMOTE for oversampling and balancing \n",
    "\n",
    "from imblearn.over_sampling import SMOTE\n",
    "\n",
    "smote = SMOTE(random_state=42)\n",
    "\n",
    "x_train_resampled, y_train_resampled = smote.fit_resample(x_train, y_train)\n",
    "\n"
   ]
  },
  {
   "cell_type": "code",
   "execution_count": 12,
   "id": "e1f88414",
   "metadata": {},
   "outputs": [],
   "source": [
    "df['DayOfWeek'] = (df['step'] // 24) % 7 "
   ]
  },
  {
   "cell_type": "code",
   "execution_count": 13,
   "id": "24db1a6f",
   "metadata": {},
   "outputs": [],
   "source": [
    "df['hourOfDay'] = df['step'] % 24"
   ]
  },
  {
   "cell_type": "markdown",
   "id": "99a32d3d",
   "metadata": {},
   "source": [
    "Phase 2 - Models"
   ]
  },
  {
   "cell_type": "code",
   "execution_count": 14,
   "id": "4d5adde3",
   "metadata": {},
   "outputs": [
    {
     "data": {
      "text/plain": [
       "'\\n\\nfrom sklearn.ensemble import RandomForestClassifier\\nfrom sklearn.metrics import accuracy_score, classification_report\\nfrom sklearn.model_selection import RandomizedSearchCV\\n\\n\\nparameters_grid = {\\n    \\'n_estimators\\':[100,50,20],\\n    \\'max_depth\\':[None,20,10],\\n    \\'bootstrap\\':[True, False],\\n    \\'min_samples_leaf\\':[1 ,2]\\n}\\n\\nrandom_search = RandomizedSearchCV(\\n    RandomForestClassifier(), \\n    param_distributions=parameters_grid,\\n    n_iter=10,  \\n    cv=3,\\n    verbose=2,\\n    random_state=42,\\n    n_jobs=-1\\n)\\nrandom_search.fit(x_train_resampled, y_train_resampled)\\n\\nprint(\"Best Parameters:\", random_search.best_params_)\\nprint(\"Best Estimator:\", random_search.best_estimator_)\\n\\n\\nmodel_rf = RandomForestClassifier(n_estimators=20, random_state=42, max_depth=20, n_jobs=-1)\\nmodel_rf.fit(x_train_resampled, y_train_resampled)\\n\\ny_pred = model_rf.predict(x_test)\\n\\nacc = accuracy_score(y_test, y_pred)\\nclassifiy_report = classification_report(y_test, y_pred)\\n\\nprint(acc)\\nprint(classifiy_report)\\n\\n'"
      ]
     },
     "execution_count": 14,
     "metadata": {},
     "output_type": "execute_result"
    }
   ],
   "source": [
    "\"\"\"\n",
    "\n",
    "from sklearn.ensemble import RandomForestClassifier\n",
    "from sklearn.metrics import accuracy_score, classification_report\n",
    "from sklearn.model_selection import RandomizedSearchCV\n",
    "\n",
    "\n",
    "parameters_grid = {\n",
    "    'n_estimators':[100,50,20],\n",
    "    'max_depth':[None,20,10],\n",
    "    'bootstrap':[True, False],\n",
    "    'min_samples_leaf':[1 ,2]\n",
    "}\n",
    "\n",
    "random_search = RandomizedSearchCV(\n",
    "    RandomForestClassifier(), \n",
    "    param_distributions=parameters_grid,\n",
    "    n_iter=10,  \n",
    "    cv=3,\n",
    "    verbose=2,\n",
    "    random_state=42,\n",
    "    n_jobs=-1\n",
    ")\n",
    "random_search.fit(x_train_resampled, y_train_resampled)\n",
    "\n",
    "print(\"Best Parameters:\", random_search.best_params_)\n",
    "print(\"Best Estimator:\", random_search.best_estimator_)\n",
    "\n",
    "\n",
    "model_rf = RandomForestClassifier(n_estimators=20, random_state=42, max_depth=20, n_jobs=-1)\n",
    "model_rf.fit(x_train_resampled, y_train_resampled)\n",
    "\n",
    "y_pred = model_rf.predict(x_test)\n",
    "\n",
    "acc = accuracy_score(y_test, y_pred)\n",
    "classifiy_report = classification_report(y_test, y_pred)\n",
    "\n",
    "print(acc)\n",
    "print(classifiy_report)\n",
    "\n",
    "\"\"\""
   ]
  },
  {
   "cell_type": "code",
   "execution_count": 15,
   "id": "b04a32c5",
   "metadata": {},
   "outputs": [
    {
     "data": {
      "text/plain": [
       "'\\nfrom sklearn.model_selection import RandomizedSearchCV\\nimport xgboost as xgb\\nimport numpy as np\\n\\n# Convert your training data to float32 if not already\\nx_train_resampled = x_train_resampled.astype(np.float32)\\n\\nparams = {\\n    \\'n_estimators\\': [20, 50, 100],\\n    \\'max_depth\\': [3, 4, 6, 7],\\n    \\'learning_rate\\': [0.01, 0.05, 0.07, 0.1, 0.2],\\n    \\'subsample\\': [0.6, 0.8, 1.0],            # Use a fraction of data per tree\\n    \\'colsample_bytree\\': [0.6, 0.8, 1.0]      # Use a fraction of features per tree\\n}\\n\\nxgb_clf = xgb.XGBClassifier(\\n    objective=\\'binary:logistic\\',\\n    tree_method=\\'gpu_hist\\',  # Use GPU acceleration\\n    gpu_id=0\\n)\\n\\nrandom_search = RandomizedSearchCV(\\n    estimator=xgb_clf,\\n    param_distributions=params,\\n    n_iter=10,\\n    scoring=\\'f1\\',\\n    cv=3,\\n    verbose=2,\\n    n_jobs=-1,\\n    random_state=42\\n)\\n\\nrandom_search.fit(x_train_resampled, y_train_resampled)\\n\\nprint(\"Best parameters found: \", random_search.best_params_)\\n'"
      ]
     },
     "execution_count": 15,
     "metadata": {},
     "output_type": "execute_result"
    }
   ],
   "source": [
    "\"\"\"\n",
    "from sklearn.model_selection import RandomizedSearchCV\n",
    "import xgboost as xgb\n",
    "import numpy as np\n",
    "\n",
    "# Convert your training data to float32 if not already\n",
    "x_train_resampled = x_train_resampled.astype(np.float32)\n",
    "\n",
    "params = {\n",
    "    'n_estimators': [20, 50, 100],\n",
    "    'max_depth': [3, 4, 6, 7],\n",
    "    'learning_rate': [0.01, 0.05, 0.07, 0.1, 0.2],\n",
    "    'subsample': [0.6, 0.8, 1.0],            # Use a fraction of data per tree\n",
    "    'colsample_bytree': [0.6, 0.8, 1.0]      # Use a fraction of features per tree\n",
    "}\n",
    "\n",
    "xgb_clf = xgb.XGBClassifier(\n",
    "    objective='binary:logistic',\n",
    "    tree_method='gpu_hist',  # Use GPU acceleration\n",
    "    gpu_id=0\n",
    ")\n",
    "\n",
    "random_search = RandomizedSearchCV(\n",
    "    estimator=xgb_clf,\n",
    "    param_distributions=params,\n",
    "    n_iter=10,\n",
    "    scoring='f1',\n",
    "    cv=3,\n",
    "    verbose=2,\n",
    "    n_jobs=-1,\n",
    "    random_state=42\n",
    ")\n",
    "\n",
    "random_search.fit(x_train_resampled, y_train_resampled)\n",
    "\n",
    "print(\"Best parameters found: \", random_search.best_params_)\n",
    "\"\"\""
   ]
  },
  {
   "cell_type": "markdown",
   "id": "f3bb4927",
   "metadata": {},
   "source": [
    "LIGHTGBM Model"
   ]
  },
  {
   "cell_type": "code",
   "execution_count": null,
   "id": "8106a704",
   "metadata": {},
   "outputs": [],
   "source": []
  },
  {
   "cell_type": "code",
   "execution_count": null,
   "id": "1929848d",
   "metadata": {},
   "outputs": [
    {
     "name": "stdout",
     "output_type": "stream",
     "text": [
      "Training until validation scores don't improve for 50 rounds\n",
      "[100]\tvalid_0's binary_logloss: 0.150761\n",
      "[200]\tvalid_0's binary_logloss: 0.135855\n",
      "[300]\tvalid_0's binary_logloss: 0.130629\n",
      "[400]\tvalid_0's binary_logloss: 0.127441\n",
      "[500]\tvalid_0's binary_logloss: 0.125089\n",
      "[600]\tvalid_0's binary_logloss: 0.123577\n",
      "[700]\tvalid_0's binary_logloss: 0.122289\n",
      "[800]\tvalid_0's binary_logloss: 0.121236\n",
      "[900]\tvalid_0's binary_logloss: 0.120385\n",
      "[1000]\tvalid_0's binary_logloss: 0.119675\n",
      "Did not meet early stopping. Best iteration is:\n",
      "[1000]\tvalid_0's binary_logloss: 0.119675\n",
      "[6.86322983e-07 2.23134541e-06 1.60954424e-06 ... 7.87078492e-02\n",
      " 5.46166721e-01 4.60088125e-01]\n",
      "Accuracy: 0.9555\n",
      "F1 Score: 0.0442\n",
      "Classification Report:\n",
      "              precision    recall  f1-score   support\n",
      "\n",
      "           0       1.00      0.96      0.98   1906322\n",
      "           1       0.02      0.80      0.04      2464\n",
      "\n",
      "    accuracy                           0.96   1908786\n",
      "   macro avg       0.51      0.88      0.51   1908786\n",
      "weighted avg       1.00      0.96      0.98   1908786\n",
      "\n"
     ]
    }
   ],
   "source": [
    "import lightgbm as lgb\n",
    "from sklearn.metrics import accuracy_score, f1_score, classification_report\n",
    "\n",
    "params = {\n",
    "    'objective':'binary',\n",
    "    'boosting_type':'gbdt',\n",
    "    'learning_rate':0.05,\n",
    "    'max_depth':-1,\n",
    "    'num_leaves':31,\n",
    "    'subsample':0.8,\n",
    "    'colsample_bytree':0.8,\n",
    "    'reg_alpha':0.1,\n",
    "    'reg_lambda':0.1,\n",
    "    'device':'cpu',\n",
    "    'verbose':-1\n",
    "}\n",
    "\n",
    "train_data = lgb.Dataset(x_train_resampled, label=y_train_resampled)\n",
    "valid_data = lgb.Dataset(x_test, label=y_test, reference=train_data)\n",
    "callbacks = [lgb.early_stopping(stopping_rounds=50), lgb.log_evaluation(period=100)]\n",
    "\n",
    "LGB_model = lgb.train(\n",
    "    params,\n",
    "    train_data,\n",
    "    valid_sets=[valid_data],\n",
    "    num_boost_round=1000,\n",
    "    callbacks=callbacks,\n",
    "    \n",
    ")\n",
    "\n",
    "y_pred = LGB_model.predict(x_test)\n",
    "print(y_pred)\n",
    "\n",
    "y_pred = (y_pred >= 0.5).astype(int)\n",
    "\n",
    "# Calculate accuracy and F1 score\n",
    "accuracy = accuracy_score(y_test, y_pred)\n",
    "f1 = f1_score(y_test, y_pred)\n",
    "\n",
    "print(f\"Accuracy: {accuracy:.4f}\")\n",
    "print(f\"F1 Score: {f1:.4f}\")\n",
    "print(\"Classification Report:\")\n",
    "print(classification_report(y_test, y_pred))"
   ]
  }
 ],
 "metadata": {
  "kernelspec": {
   "display_name": ".venv (3.10.12)",
   "language": "python",
   "name": "python3"
  },
  "language_info": {
   "codemirror_mode": {
    "name": "ipython",
    "version": 3
   },
   "file_extension": ".py",
   "mimetype": "text/x-python",
   "name": "python",
   "nbconvert_exporter": "python",
   "pygments_lexer": "ipython3",
   "version": "3.10.12"
  }
 },
 "nbformat": 4,
 "nbformat_minor": 5
}
